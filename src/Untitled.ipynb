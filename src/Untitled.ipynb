{
 "cells": [
  {
   "cell_type": "code",
   "execution_count": null,
   "metadata": {},
   "outputs": [],
   "source": []
  },
  {
   "cell_type": "code",
   "execution_count": 1,
   "metadata": {},
   "outputs": [],
   "source": [
    "import proto.tensorflow.core.framework.tensor_pb2 as tb\n",
    "import numpy as np\n",
    "import tensorflow as tf\n",
    "import struct"
   ]
  },
  {
   "cell_type": "code",
   "execution_count": 2,
   "metadata": {},
   "outputs": [],
   "source": [
    "# Helper functions for serializing/deserializing between numpy arrays on the wire.\n",
    "def _np_to_bytes(np_array):\n",
    "    return struct.pack('<%df' % np_array.size, *np_array.flatten().tolist())\n",
    "\n",
    "def _bytes_to_np(in_bytes, shape):\n",
    "    length = len(in_bytes)/4\n",
    "    data = struct.unpack('<%df' % length, in_bytes)\n",
    "    data_array = np.array(data, np.float32)\n",
    "    out = np.reshape(data_array, shape)\n",
    "    return out"
   ]
  },
  {
   "cell_type": "code",
   "execution_count": 10,
   "metadata": {},
   "outputs": [
    {
     "name": "stdout",
     "output_type": "stream",
     "text": [
      "dtype: DT_STRING\n",
      "tensor_shape {\n",
      "  dim {\n",
      "    size: 2\n",
      "  }\n",
      "  dim {\n",
      "    size: 3\n",
      "  }\n",
      "}\n",
      "string_val: \"s\"\n",
      "string_val: \"s\"\n",
      "string_val: \"s\"\n",
      "string_val: \"b\"\n",
      "string_val: \"b\"\n",
      "string_val: \"c\"\n",
      "\n"
     ]
    }
   ],
   "source": [
    "a = np.array([['s','s','s'], ['b','b','c']])\n",
    "\n",
    "a_proto = tf.make_tensor_proto(a)\n",
    "\n",
    "\n",
    "print (a_proto)"
   ]
  },
  {
   "cell_type": "code",
   "execution_count": 12,
   "metadata": {},
   "outputs": [
    {
     "name": "stdout",
     "output_type": "stream",
     "text": [
      "[2, 3]\n"
     ]
    }
   ],
   "source": [
    "shape = [dim.size for dim in a_proto.tensor_shape.dim]\n",
    "print (shape)"
   ]
  },
  {
   "cell_type": "code",
   "execution_count": 15,
   "metadata": {},
   "outputs": [
    {
     "data": {
      "text/plain": [
       "[b's', b's', b's', b'b', b'b', b'c']"
      ]
     },
     "execution_count": 15,
     "metadata": {},
     "output_type": "execute_result"
    }
   ],
   "source": [
    "[s for s in a_proto.string_val]\n"
   ]
  },
  {
   "cell_type": "code",
   "execution_count": null,
   "metadata": {},
   "outputs": [],
   "source": []
  }
 ],
 "metadata": {
  "kernelspec": {
   "display_name": "Python 3",
   "language": "python",
   "name": "python3"
  },
  "language_info": {
   "codemirror_mode": {
    "name": "ipython",
    "version": 3
   },
   "file_extension": ".py",
   "mimetype": "text/x-python",
   "name": "python",
   "nbconvert_exporter": "python",
   "pygments_lexer": "ipython3",
   "version": "3.6.5"
  }
 },
 "nbformat": 4,
 "nbformat_minor": 2
}
