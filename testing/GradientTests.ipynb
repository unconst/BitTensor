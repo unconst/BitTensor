{
 "cells": [
  {
   "cell_type": "code",
   "execution_count": 7,
   "metadata": {},
   "outputs": [
    {
     "name": "stderr",
     "output_type": "stream",
     "text": [
      "2019-08-29 16:06:57.408 | INFO     | __main__:spikerpc:21 - spikerpc [1.]\n"
     ]
    },
    {
     "name": "stdout",
     "output_type": "stream",
     "text": [
      "[1.]\n",
      "[array([1.], dtype=float32)]\n"
     ]
    }
   ],
   "source": [
    "import numpy as np\n",
    "import tensorflow as tf\n",
    "from loguru import logger\n",
    "from tensorflow.python.framework import ops\n",
    "import numpy as np\n",
    "\n",
    "\n",
    "class Dendrite:\n",
    "    def __init__(self):\n",
    "        pass\n",
    "    \n",
    "    def gradrpc(self, inputs, grad):\n",
    "        logger.info('gradrpc {} {}', inputs, grad)\n",
    "        return inputs\n",
    "\n",
    "    def spike_grad(self, op, grad):\n",
    "        logger.info('spike_grad')\n",
    "        return tf.py_function(self.gradrpc, [op.inputs[0], grad], [tf.float32])\n",
    "\n",
    "    def spikerpc(self, tensor):\n",
    "        logger.info('spikerpc {}', tensor)\n",
    "        return tensor\n",
    "\n",
    "    def spike(self, inp, Tout, stateful=True, name=None, grad=None):\n",
    "        rnd_name = 'PyFuncGrad' + str(np.random.randint(0, 1E+8))\n",
    "        tf.RegisterGradient(rnd_name)(self.spike_grad) \n",
    "        g = tf.get_default_graph()\n",
    "        with g.gradient_override_map({\"PyFunc\": rnd_name}):\n",
    "            return tf.py_function(self.spikerpc, inp, Tout, name=name)\n",
    "\n",
    "def pyfunc_test():\n",
    "    \n",
    "    g = tf.Graph()\n",
    "    s = tf.Session()\n",
    "    dendrite = Dendrite()\n",
    "\n",
    "    x = tf.compat.v1.placeholder(tf.float32, shape=[1])\n",
    "    \n",
    "    w = tf.Variable(tf.ones_like(x))\n",
    "    h = tf.multiply(x, w)\n",
    "    \n",
    "    y = dendrite.spike([h], [tf.float32])[0]\n",
    "    \n",
    "    d = tf.gradients(y, w)\n",
    "\n",
    "    init = tf.compat.v1.global_variables_initializer()\n",
    "    s.run(init)\n",
    "    for out in s.run([y, d], feed_dict={x:[1]}):\n",
    "        print (out)\n",
    "\n",
    "\n",
    "#     # create data\n",
    "#     x_data = tf.placeholder(dtype=tf.float32, shape=[None])\n",
    "#     y_data = tf.placeholder(dtype=tf.float32, shape=[None])\n",
    "\n",
    "#     w = tf.Variable(tf.constant([0.5]))\n",
    "#     b = tf.Variable(tf.zeros([1]))\n",
    "\n",
    "#     y1 = tf.multiply(w, x_data, name='y1')\n",
    "#     y2 = spike([y1], [tf.float32], grad=spike_grad)[0]\n",
    "#     y = tf.add(y2, b)\n",
    "\n",
    "#     loss = tf.reduce_mean(tf.square(y - y_data))\n",
    "#     optimizer = tf.train.GradientDescentOptimizer(0.01)\n",
    "#     train = optimizer.minimize(loss)\n",
    "\n",
    "#     print(\"Pyfunc grad\", ops.get_gradient_function(y2.op))\n",
    "#     with tf.Session() as sess:\n",
    "#         sess.run(tf.global_variables_initializer())\n",
    "\n",
    "#         for step in range(1):\n",
    "#             #            ran = np.random.rand(115).astype(np.float32)\n",
    "#             ran = np.ones((115)).astype(np.float32)\n",
    "#             ans = ran * 1.5 + 3\n",
    "#             dic = {x_data: ran, y_data: ans}\n",
    "#             tt, yy, yy1= sess.run([train, y1, y2], feed_dict=dic)\n",
    "#             if step % 1 == 0:\n",
    "#                 print('step {}'.format(step))\n",
    "#                 print('{}, {}'.format(w.eval(), b.eval()))\n",
    "\n",
    "#         test = sess.run(y, feed_dict={x_data:[1]})\n",
    "#         print('test = {}'.format(test))\n",
    "\n",
    "\n",
    "if __name__ == '__main__':\n",
    "    pyfunc_test()"
   ]
  },
  {
   "cell_type": "code",
   "execution_count": null,
   "metadata": {},
   "outputs": [],
   "source": []
  }
 ],
 "metadata": {
  "kernelspec": {
   "display_name": "Python 3",
   "language": "python",
   "name": "python3"
  },
  "language_info": {
   "codemirror_mode": {
    "name": "ipython",
    "version": 3
   },
   "file_extension": ".py",
   "mimetype": "text/x-python",
   "name": "python",
   "nbconvert_exporter": "python",
   "pygments_lexer": "ipython3",
   "version": "3.7.4"
  }
 },
 "nbformat": 4,
 "nbformat_minor": 2
}
