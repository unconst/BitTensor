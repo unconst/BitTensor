{
 "cells": [
  {
   "cell_type": "code",
   "execution_count": 11,
   "metadata": {},
   "outputs": [],
   "source": [
    "\n",
    "def OptimalAllocationSubI(bids, i):\n",
    "    max_bid = max(bids[0:i] + bids[i+1:])\n",
    "    return max_bid\n",
    "\n",
    "def OptimalAllocationWithI(bids, i):\n",
    "    \n",
    "    max_bid = -1\n",
    "    for j in range(len(bids)):\n",
    "        if bids[j] >= max_bid and i != j:\n",
    "            max_bid = bids[j]    \n",
    "    return max_bid\n",
    "\n",
    "def VCG(bids):\n",
    "    \n",
    "    for i in range(len(bids)):\n",
    "        h = OptimalAllocationSubI(bids, i)\n",
    "        c = OptimalAllocationWithI(bids, i)\n",
    "        \n",
    "        print (i, bids[i], h, c, h-c)\n",
    "    \n",
    "    \n",
    "    \n",
    "    \n"
   ]
  },
  {
   "cell_type": "code",
   "execution_count": 12,
   "metadata": {},
   "outputs": [
    {
     "name": "stdout",
     "output_type": "stream",
     "text": [
      "0 1 5 5 0\n",
      "1 2 5 5 0\n",
      "2 3 5 5 0\n",
      "3 4 5 5 0\n",
      "4 5 4 4 0\n"
     ]
    }
   ],
   "source": [
    "a = [1,2,3,4,5]\n",
    "\n",
    "VCG(a)"
   ]
  },
  {
   "cell_type": "code",
   "execution_count": 6,
   "metadata": {},
   "outputs": [
    {
     "data": {
      "text/plain": [
       "5"
      ]
     },
     "execution_count": 6,
     "metadata": {},
     "output_type": "execute_result"
    }
   ],
   "source": [
    "max(a)\n"
   ]
  },
  {
   "cell_type": "code",
   "execution_count": null,
   "metadata": {},
   "outputs": [],
   "source": []
  }
 ],
 "metadata": {
  "kernelspec": {
   "display_name": "Python 3",
   "language": "python",
   "name": "python3"
  },
  "language_info": {
   "codemirror_mode": {
    "name": "ipython",
    "version": 3
   },
   "file_extension": ".py",
   "mimetype": "text/x-python",
   "name": "python",
   "nbconvert_exporter": "python",
   "pygments_lexer": "ipython3",
   "version": "3.7.4"
  }
 },
 "nbformat": 4,
 "nbformat_minor": 2
}
