{
 "cells": [
  {
   "cell_type": "code",
   "execution_count": 221,
   "metadata": {},
   "outputs": [
    {
     "name": "stdout",
     "output_type": "stream",
     "text": [
      "[[0.66144635]\n",
      " [0.10558287]\n",
      " [0.08480557]\n",
      " [0.06322416]\n",
      " [0.08494106]]\n",
      "[[0.98301053]\n",
      " [0.00313825]\n",
      " [0.00378102]\n",
      " [0.00375843]\n",
      " [0.00631177]]\n",
      "[1.]\n"
     ]
    }
   ],
   "source": [
    "import numpy as np\n",
    "\n",
    "def pagerank(M, eps=1.0e-9, d=0.85):\n",
    "    N = M.shape[1]\n",
    "    v1 = [[100],[2],[3],[4],[5]]\n",
    "    \n",
    "    v1 = v1 / np.linalg.norm(v1, 1)\n",
    "    v = v1\n",
    "    last_v = np.ones((N, 1), dtype=np.float32) * 100\n",
    "    \n",
    "    for _ in range(100):\n",
    "        v = np.matmul(M, v)\n",
    "        \n",
    "    print (v)\n",
    "        \n",
    "    v = v * v1\n",
    "    v = v / np.linalg.norm(v, 1)\n",
    "    return v\n",
    "\n",
    "M = np.array([[0.99, 0.0, 0.0, 0.1, 0.00],\n",
    "              [0.0, 0.5, 0.4, 0.3, 0.0],\n",
    "              [0.0, 0.0, 0.5, 0.0, 0.5],\n",
    "              [0.0, 0.3, 0.0, 0.5, 0.0],\n",
    "              [0.01, 0.2, 0.1, 0.1, 0.5]])\n",
    "\n",
    "v = pagerank(M, 0.001, 0.85)\n",
    "\n",
    "print (v)\n",
    "print (sum(v))\n"
   ]
  },
  {
   "cell_type": "code",
   "execution_count": 209,
   "metadata": {},
   "outputs": [
    {
     "name": "stdout",
     "output_type": "stream",
     "text": [
      "[[0.21969214 0.78030786]\n",
      " [0.45932456 0.54067544]]\n"
     ]
    }
   ],
   "source": [
    "a = np.random.rand(2,2)\n",
    "row_sums = a.sum(axis=1)\n",
    "new_matrix = a / row_sums[:, np.newaxis]\n",
    "print (new_matrix)"
   ]
  },
  {
   "cell_type": "code",
   "execution_count": 222,
   "metadata": {},
   "outputs": [
    {
     "ename": "SyntaxError",
     "evalue": "unexpected EOF while parsing (<ipython-input-222-75519974130e>, line 6)",
     "output_type": "error",
     "traceback": [
      "\u001b[0;36m  File \u001b[0;32m\"<ipython-input-222-75519974130e>\"\u001b[0;36m, line \u001b[0;32m6\u001b[0m\n\u001b[0;31m    \u001b[0m\n\u001b[0m    ^\u001b[0m\n\u001b[0;31mSyntaxError\u001b[0m\u001b[0;31m:\u001b[0m unexpected EOF while parsing\n"
     ]
    }
   ],
   "source": [
    "\n",
    "\n",
    "\n",
    "class bittensor:\n",
    "    \n",
    "    def __init__(self):\n",
    "        self.S = {} # id --> stake\n",
    "        self.W = {} # id --> weight\n",
    "        self.A = {} # id --> attr\n",
    "        \n",
    "    def insert(self, id):\n",
    "        self.S[id] = 0\n",
    "        self.W[id] = {}\n",
    "        self.A[id] = 0\n",
    "        \n",
    "    def set_stake(self, id, stake):\n",
    "        self.S[id] = stake\n",
    "        self.supply = sum(self.S.values())\n",
    "        \n",
    "    def set_weights(self, id, weights):\n",
    "        assert( sum(weights.values()) == 1.0 )\n",
    "        self.W[id] = weights\n",
    "    \n",
    "    def update(self):\n",
    "        \n",
    "        \n",
    "\n",
    "\n"
   ]
  },
  {
   "cell_type": "code",
   "execution_count": null,
   "metadata": {},
   "outputs": [],
   "source": []
  }
 ],
 "metadata": {
  "kernelspec": {
   "display_name": "Python 3",
   "language": "python",
   "name": "python3"
  },
  "language_info": {
   "codemirror_mode": {
    "name": "ipython",
    "version": 3
   },
   "file_extension": ".py",
   "mimetype": "text/x-python",
   "name": "python",
   "nbconvert_exporter": "python",
   "pygments_lexer": "ipython3",
   "version": "3.7.3"
  }
 },
 "nbformat": 4,
 "nbformat_minor": 2
}
